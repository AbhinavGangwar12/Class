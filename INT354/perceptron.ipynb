{
 "cells": [
  {
   "cell_type": "code",
   "execution_count": 5,
   "metadata": {},
   "outputs": [
    {
     "name": "stdout",
     "output_type": "stream",
     "text": [
      "Class labels:  [0 1 2]\n"
     ]
    }
   ],
   "source": [
    "import numpy as np\n",
    "class Perceptron(object):\n",
    "    def __init__(self,eta = 0.01,n_iter=50,random_state=1):\n",
    "        self.eta = eta\n",
    "        self.n_iter = n_iter\n",
    "        self.random_state = random_state\n",
    "    def fit(self,x,y):#gradient descent\n",
    "        rgen = np.random.RandomState(self.random_state)\n",
    "        self.w_ = rgen.normal(loc=0.0,scale=0.01,size = 1 + x.shape[1])\n",
    "        self.errors_ = []\n",
    "        for _ in range(self.n_iter):\n",
    "            global erros\n",
    "            erros = 0\n",
    "        for xi, target in zip(x,y):\n",
    "            update = self.eta * (target - self.predict(xi))\n",
    "            self.w_[1:] += update * xi\n",
    "            self.w_[0] += update\n",
    "            errors += int(update != 0.0)\n",
    "            self.errors_.append(errors)\n",
    "            return self\n",
    "        def net_input(self,x):\n",
    "            return np.dot(x,self.w_[1:]) + self.w_[0]\n",
    "        def predict(self,x):\n",
    "            return np.where(self.net_input(x) >= 0.0,1,-1)\n",
    "    \n",
    "    from sklearn import datasets\n",
    "    iris = datasets.load_iris()\n",
    "    x = iris.data[:,[2,3]]\n",
    "    y = iris.target\n",
    "    print('Class labels: ',np.unique(y))\n"
   ]
  }
 ],
 "metadata": {
  "kernelspec": {
   "display_name": "Python 3",
   "language": "python",
   "name": "python3"
  },
  "language_info": {
   "codemirror_mode": {
    "name": "ipython",
    "version": 3
   },
   "file_extension": ".py",
   "mimetype": "text/x-python",
   "name": "python",
   "nbconvert_exporter": "python",
   "pygments_lexer": "ipython3",
   "version": "3.12.1"
  },
  "orig_nbformat": 4
 },
 "nbformat": 4,
 "nbformat_minor": 2
}
